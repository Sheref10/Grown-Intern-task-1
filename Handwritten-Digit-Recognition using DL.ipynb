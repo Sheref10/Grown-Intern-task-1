{
 "cells": [
  {
   "cell_type": "code",
   "execution_count": 2,
   "id": "9f0b716c",
   "metadata": {},
   "outputs": [],
   "source": [
    "import keras\n",
    "from keras.datasets import mnist\n",
    "from keras.models import Sequential\n",
    "from keras.layers import Dense, Dropout, Flatten\n",
    "from keras.layers import Conv2D, MaxPooling2D\n",
    "from keras import backend as K"
   ]
  },
  {
   "cell_type": "code",
   "execution_count": 3,
   "id": "bc7e231e",
   "metadata": {},
   "outputs": [],
   "source": [
    "# the data, split between train and test sets\n",
    "(x_train, y_train), (x_test, y_test) = mnist.load_data()"
   ]
  },
  {
   "cell_type": "code",
   "execution_count": 4,
   "id": "cd5df722",
   "metadata": {},
   "outputs": [
    {
     "name": "stdout",
     "output_type": "stream",
     "text": [
      "(60000, 28, 28) (60000,)\n"
     ]
    }
   ],
   "source": [
    "print(x_train.shape, y_train.shape)"
   ]
  },
  {
   "cell_type": "code",
   "execution_count": 5,
   "id": "f8c23682",
   "metadata": {},
   "outputs": [],
   "source": [
    "x_train = x_train.reshape(x_train.shape[0], 28, 28, 1)\n",
    "x_test = x_test.reshape(x_test.shape[0], 28, 28, 1)\n",
    "input_shape = (28, 28, 1)"
   ]
  },
  {
   "cell_type": "code",
   "execution_count": 6,
   "id": "e3624f98",
   "metadata": {},
   "outputs": [],
   "source": [
    "# convert class vectors to binary class matrices\n",
    "y_train = keras.utils.to_categorical(y_train, 10)\n",
    "y_test = keras.utils.to_categorical(y_test, 10)"
   ]
  },
  {
   "cell_type": "code",
   "execution_count": 7,
   "id": "cbf5f93a",
   "metadata": {},
   "outputs": [
    {
     "name": "stdout",
     "output_type": "stream",
     "text": [
      "x_train shape: (60000, 28, 28, 1)\n",
      "60000 train samples\n",
      "10000 test samples\n"
     ]
    }
   ],
   "source": [
    "x_train = x_train.astype('float32')\n",
    "x_test = x_test.astype('float32')\n",
    "x_train /= 255\n",
    "x_test /= 255\n",
    "print('x_train shape:', x_train.shape)\n",
    "print(x_train.shape[0], 'train samples')\n",
    "print(x_test.shape[0], 'test samples')"
   ]
  },
  {
   "cell_type": "code",
   "execution_count": 8,
   "id": "6e87dac7",
   "metadata": {},
   "outputs": [],
   "source": [
    "#Preper the layers of Model\n",
    "batch_size = 130\n",
    "num_classes = 10\n",
    "epochs = 40\n",
    "\n",
    "model = Sequential()\n",
    "model.add(Conv2D(32, kernel_size=(5, 5),activation='relu',input_shape=input_shape))\n",
    "model.add(MaxPooling2D(pool_size=(2, 2)))\n",
    "model.add(Conv2D(64, (3, 3), activation='relu'))\n",
    "model.add(MaxPooling2D(pool_size=(2, 2)))\n",
    "model.add(Flatten())\n",
    "model.add(Dense(128, activation='relu'))\n",
    "model.add(Dropout(0.3))\n",
    "model.add(Dense(64, activation='relu'))\n",
    "model.add(Dropout(0.5))\n",
    "model.add(Dense(num_classes, activation='softmax'))\n"
   ]
  },
  {
   "cell_type": "code",
   "execution_count": 9,
   "id": "04627850",
   "metadata": {},
   "outputs": [],
   "source": [
    "model.compile(loss=keras.losses.categorical_crossentropy,optimizer=keras.optimizers.Adadelta(),metrics=['accuracy'])\n"
   ]
  },
  {
   "cell_type": "code",
   "execution_count": 10,
   "id": "1237fadc",
   "metadata": {
    "scrolled": true
   },
   "outputs": [
    {
     "name": "stdout",
     "output_type": "stream",
     "text": [
      "Epoch 1/40\n",
      "462/462 [==============================] - 26s 53ms/step - loss: 2.2998 - accuracy: 0.1228 - val_loss: 2.2824 - val_accuracy: 0.1398\n",
      "Epoch 2/40\n",
      "462/462 [==============================] - 22s 48ms/step - loss: 2.2828 - accuracy: 0.1446 - val_loss: 2.2648 - val_accuracy: 0.2161\n",
      "Epoch 3/40\n",
      "462/462 [==============================] - 22s 47ms/step - loss: 2.2676 - accuracy: 0.1720 - val_loss: 2.2478 - val_accuracy: 0.2809\n",
      "Epoch 4/40\n",
      "462/462 [==============================] - 22s 47ms/step - loss: 2.2530 - accuracy: 0.1987 - val_loss: 2.2295 - val_accuracy: 0.3643\n",
      "Epoch 5/40\n",
      "462/462 [==============================] - 21s 45ms/step - loss: 2.2369 - accuracy: 0.2240 - val_loss: 2.2094 - val_accuracy: 0.4465\n",
      "Epoch 6/40\n",
      "462/462 [==============================] - 23s 49ms/step - loss: 2.2212 - accuracy: 0.2474 - val_loss: 2.1877 - val_accuracy: 0.5015\n",
      "Epoch 7/40\n",
      "462/462 [==============================] - 20s 44ms/step - loss: 2.2022 - accuracy: 0.2657 - val_loss: 2.1637 - val_accuracy: 0.5429\n",
      "Epoch 8/40\n",
      "462/462 [==============================] - 19s 42ms/step - loss: 2.1808 - accuracy: 0.2860 - val_loss: 2.1367 - val_accuracy: 0.5738\n",
      "Epoch 9/40\n",
      "462/462 [==============================] - 21s 46ms/step - loss: 2.1597 - accuracy: 0.3031 - val_loss: 2.1072 - val_accuracy: 0.6031\n",
      "Epoch 10/40\n",
      "462/462 [==============================] - 24s 51ms/step - loss: 2.1338 - accuracy: 0.3198 - val_loss: 2.0740 - val_accuracy: 0.6274\n",
      "Epoch 11/40\n",
      "462/462 [==============================] - 22s 47ms/step - loss: 2.1074 - accuracy: 0.3361 - val_loss: 2.0372 - val_accuracy: 0.6488\n",
      "Epoch 12/40\n",
      "462/462 [==============================] - 23s 49ms/step - loss: 2.0771 - accuracy: 0.3514 - val_loss: 1.9964 - val_accuracy: 0.6652\n",
      "Epoch 13/40\n",
      "462/462 [==============================] - 22s 47ms/step - loss: 2.0474 - accuracy: 0.3623 - val_loss: 1.9523 - val_accuracy: 0.6830\n",
      "Epoch 14/40\n",
      "462/462 [==============================] - 21s 45ms/step - loss: 2.0152 - accuracy: 0.3770 - val_loss: 1.9051 - val_accuracy: 0.6955\n",
      "Epoch 15/40\n",
      "462/462 [==============================] - 23s 49ms/step - loss: 1.9765 - accuracy: 0.3902 - val_loss: 1.8544 - val_accuracy: 0.7038\n",
      "Epoch 16/40\n",
      "462/462 [==============================] - 23s 50ms/step - loss: 1.9408 - accuracy: 0.4009 - val_loss: 1.8016 - val_accuracy: 0.7131\n",
      "Epoch 17/40\n",
      "462/462 [==============================] - 23s 50ms/step - loss: 1.9004 - accuracy: 0.4165 - val_loss: 1.7467 - val_accuracy: 0.7231\n",
      "Epoch 18/40\n",
      "462/462 [==============================] - 20s 44ms/step - loss: 1.8572 - accuracy: 0.4311 - val_loss: 1.6892 - val_accuracy: 0.7299\n",
      "Epoch 19/40\n",
      "462/462 [==============================] - 20s 44ms/step - loss: 1.8166 - accuracy: 0.4406 - val_loss: 1.6317 - val_accuracy: 0.7377\n",
      "Epoch 20/40\n",
      "462/462 [==============================] - 19s 42ms/step - loss: 1.7814 - accuracy: 0.4511 - val_loss: 1.5760 - val_accuracy: 0.7437\n",
      "Epoch 21/40\n",
      "462/462 [==============================] - 21s 46ms/step - loss: 1.7375 - accuracy: 0.4636 - val_loss: 1.5185 - val_accuracy: 0.7520\n",
      "Epoch 22/40\n",
      "462/462 [==============================] - 22s 48ms/step - loss: 1.6950 - accuracy: 0.4729 - val_loss: 1.4619 - val_accuracy: 0.7562\n",
      "Epoch 23/40\n",
      "462/462 [==============================] - 21s 45ms/step - loss: 1.6579 - accuracy: 0.4824 - val_loss: 1.4067 - val_accuracy: 0.7609\n",
      "Epoch 24/40\n",
      "462/462 [==============================] - 21s 45ms/step - loss: 1.6202 - accuracy: 0.4949 - val_loss: 1.3541 - val_accuracy: 0.7668\n",
      "Epoch 25/40\n",
      "462/462 [==============================] - 21s 46ms/step - loss: 1.5804 - accuracy: 0.5087 - val_loss: 1.3030 - val_accuracy: 0.7755\n",
      "Epoch 26/40\n",
      "462/462 [==============================] - 20s 44ms/step - loss: 1.5491 - accuracy: 0.5122 - val_loss: 1.2557 - val_accuracy: 0.7805\n",
      "Epoch 27/40\n",
      "462/462 [==============================] - 21s 47ms/step - loss: 1.5096 - accuracy: 0.5265 - val_loss: 1.2093 - val_accuracy: 0.7856\n",
      "Epoch 28/40\n",
      "462/462 [==============================] - 21s 45ms/step - loss: 1.4813 - accuracy: 0.5321 - val_loss: 1.1669 - val_accuracy: 0.7909\n",
      "Epoch 29/40\n",
      "462/462 [==============================] - 21s 46ms/step - loss: 1.4454 - accuracy: 0.5419 - val_loss: 1.1261 - val_accuracy: 0.7974\n",
      "Epoch 30/40\n",
      "462/462 [==============================] - 20s 44ms/step - loss: 1.4165 - accuracy: 0.5535 - val_loss: 1.0867 - val_accuracy: 0.8000\n",
      "Epoch 31/40\n",
      "462/462 [==============================] - 22s 48ms/step - loss: 1.3925 - accuracy: 0.5583 - val_loss: 1.0520 - val_accuracy: 0.8036\n",
      "Epoch 32/40\n",
      "462/462 [==============================] - 22s 47ms/step - loss: 1.3539 - accuracy: 0.5699 - val_loss: 1.0153 - val_accuracy: 0.8067\n",
      "Epoch 33/40\n",
      "462/462 [==============================] - 22s 47ms/step - loss: 1.3393 - accuracy: 0.5720 - val_loss: 0.9844 - val_accuracy: 0.8111\n",
      "Epoch 34/40\n",
      "462/462 [==============================] - 21s 45ms/step - loss: 1.3084 - accuracy: 0.5829 - val_loss: 0.9539 - val_accuracy: 0.8163\n",
      "Epoch 35/40\n",
      "462/462 [==============================] - 22s 47ms/step - loss: 1.2862 - accuracy: 0.5875 - val_loss: 0.9240 - val_accuracy: 0.8204\n",
      "Epoch 36/40\n",
      "462/462 [==============================] - 23s 50ms/step - loss: 1.2667 - accuracy: 0.5951 - val_loss: 0.8973 - val_accuracy: 0.8236\n",
      "Epoch 37/40\n",
      "462/462 [==============================] - 20s 42ms/step - loss: 1.2444 - accuracy: 0.6001 - val_loss: 0.8714 - val_accuracy: 0.8280\n",
      "Epoch 38/40\n",
      "462/462 [==============================] - 23s 49ms/step - loss: 1.2195 - accuracy: 0.6106 - val_loss: 0.8471 - val_accuracy: 0.8316\n",
      "Epoch 39/40\n",
      "462/462 [==============================] - 22s 47ms/step - loss: 1.1986 - accuracy: 0.6141 - val_loss: 0.8242 - val_accuracy: 0.8338\n",
      "Epoch 40/40\n",
      "462/462 [==============================] - 21s 46ms/step - loss: 1.1808 - accuracy: 0.6220 - val_loss: 0.8026 - val_accuracy: 0.8375\n",
      "The model has successfully trained\n"
     ]
    }
   ],
   "source": [
    "\n",
    "hist = model.fit(x_train, y_train,batch_size=batch_size,epochs=epochs,verbose=1,validation_data=(x_test, y_test))\n",
    "print(\"The model has successfully trained\")"
   ]
  },
  {
   "cell_type": "code",
   "execution_count": 11,
   "id": "06f6c446",
   "metadata": {},
   "outputs": [
    {
     "name": "stdout",
     "output_type": "stream",
     "text": [
      "Test loss: 0.8026165962219238\n",
      "Test accuracy: 0.8374999761581421\n"
     ]
    }
   ],
   "source": [
    "\n",
    "score = model.evaluate(x_test, y_test, verbose=0)\n",
    "print('Test loss:', score[0])\n",
    "print('Test accuracy:', score[1])\n"
   ]
  },
  {
   "cell_type": "code",
   "execution_count": 12,
   "id": "a2d356db",
   "metadata": {},
   "outputs": [
    {
     "name": "stdout",
     "output_type": "stream",
     "text": [
      "Saving the model as HandwrittendigitRe.h5\n"
     ]
    },
    {
     "name": "stderr",
     "output_type": "stream",
     "text": [
      "C:\\Users\\shere\\anaconda3\\Lib\\site-packages\\keras\\src\\engine\\training.py:3079: UserWarning: You are saving your model as an HDF5 file via `model.save()`. This file format is considered legacy. We recommend using instead the native Keras format, e.g. `model.save('my_model.keras')`.\n",
      "  saving_api.save_model(\n"
     ]
    }
   ],
   "source": [
    "#save Model\n",
    "\n",
    "model.save('HandwrittendigitRe.h5')\n",
    "print(\"Saving the model as HandwrittendigitRe.h5\")\n",
    "\n"
   ]
  },
  {
   "cell_type": "code",
   "execution_count": 13,
   "id": "6d0a106f",
   "metadata": {},
   "outputs": [],
   "source": [
    "from keras.models import load_model\n",
    "from tkinter import *\n",
    "import tkinter as tk\n",
    "import win32gui\n",
    "from PIL import ImageGrab, Image\n",
    "import numpy as np"
   ]
  },
  {
   "cell_type": "code",
   "execution_count": 14,
   "id": "17b7e05f",
   "metadata": {},
   "outputs": [],
   "source": [
    "def predict_digit(img):\n",
    "    #resize image to 28x28 pixels\n",
    "    img = img.resize((28,28))\n",
    "    #convert rgb to grayscale\n",
    "    img = img.convert('L')\n",
    "    img = np.array(img)\n",
    "    #reshaping to support our model input and normalizing\n",
    "    img = img.reshape(1,28,28,1)\n",
    "    img = img/255.0\n",
    "    #predicting the class\n",
    "    res = model.predict([img])[0]\n",
    "    return np.argmax(res), max(res)"
   ]
  },
  {
   "cell_type": "code",
   "execution_count": 15,
   "id": "f1b784fb",
   "metadata": {},
   "outputs": [],
   "source": [
    "#load the model\n",
    "model = load_model('HandwrittendigitRe.h5')"
   ]
  },
  {
   "cell_type": "code",
   "execution_count": 16,
   "id": "4921243f",
   "metadata": {},
   "outputs": [
    {
     "name": "stdout",
     "output_type": "stream",
     "text": [
      "1/1 [==============================] - 0s 186ms/step\n",
      "1/1 [==============================] - 0s 26ms/step\n",
      "1/1 [==============================] - 0s 24ms/step\n",
      "1/1 [==============================] - 0s 24ms/step\n",
      "1/1 [==============================] - 0s 26ms/step\n",
      "1/1 [==============================] - 0s 24ms/step\n",
      "1/1 [==============================] - 0s 27ms/step\n",
      "1/1 [==============================] - 0s 26ms/step\n",
      "1/1 [==============================] - 0s 24ms/step\n",
      "1/1 [==============================] - 0s 23ms/step\n",
      "1/1 [==============================] - 0s 24ms/step\n",
      "1/1 [==============================] - 0s 24ms/step\n"
     ]
    }
   ],
   "source": [
    "class App(tk.Tk):\n",
    "    def __init__(self):\n",
    "        tk.Tk.__init__(self)\n",
    "\n",
    "        self.x = self.y = 0\n",
    "        \n",
    "        # Creating elements\n",
    "        self.canvas = tk.Canvas(self, width=300, height=300, bg = \"white\", cursor=\"cross\")\n",
    "        self.label = tk.Label(self, text=\"Draw..\", font=(\"Helvetica\", 48))\n",
    "        self.classify_btn = tk.Button(self, text = \"Recognise\", command = self.classify_handwriting)   \n",
    "        self.button_clear = tk.Button(self, text = \"Clear\", command = self.clear_all)\n",
    "       \n",
    "        # Grid structure\n",
    "        self.canvas.grid(row=0, column=0, pady=2, sticky=W, )\n",
    "        self.label.grid(row=0, column=1,pady=2, padx=2)\n",
    "        self.classify_btn.grid(row=1, column=1, pady=2, padx=2)\n",
    "        self.button_clear.grid(row=1, column=0, pady=2)\n",
    "        \n",
    "        #self.canvas.bind(\"<Motion>\", self.start_pos)\n",
    "        self.canvas.bind(\"<B1-Motion>\", self.draw_lines)\n",
    "\n",
    "    def clear_all(self):\n",
    "        self.canvas.delete(\"all\")\n",
    "        \n",
    "    def classify_handwriting(self):\n",
    "        HWND = self.canvas.winfo_id()  # get the handle of the canvas\n",
    "        rect = win32gui.GetWindowRect(HWND)  # get the coordinate of the canvas\n",
    "        a,b,c,d = rect\n",
    "        rect=(a+4,b+4,c-4,d-4)\n",
    "        im = ImageGrab.grab(rect)\n",
    "\n",
    "        digit, acc = predict_digit(im)\n",
    "        self.label.configure(text= str(digit)+', '+ str(int(acc*100))+'%')\n",
    "\n",
    "    def draw_lines(self, event):\n",
    "        self.x = event.x\n",
    "        self.y = event.y\n",
    "        r=8\n",
    "        self.canvas.create_oval(self.x-r, self.y-r, self.x + r, self.y + r, fill='black')\n",
    "       \n",
    "app = App()\n",
    "mainloop()"
   ]
  },
  {
   "cell_type": "code",
   "execution_count": null,
   "id": "805268db",
   "metadata": {},
   "outputs": [],
   "source": []
  }
 ],
 "metadata": {
  "kernelspec": {
   "display_name": "Python 3 (ipykernel)",
   "language": "python",
   "name": "python3"
  },
  "language_info": {
   "codemirror_mode": {
    "name": "ipython",
    "version": 3
   },
   "file_extension": ".py",
   "mimetype": "text/x-python",
   "name": "python",
   "nbconvert_exporter": "python",
   "pygments_lexer": "ipython3",
   "version": "3.11.3"
  }
 },
 "nbformat": 4,
 "nbformat_minor": 5
}
